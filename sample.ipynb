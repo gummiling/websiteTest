{
 "cells": [
  {
   "cell_type": "markdown",
   "id": "1dc24f51-c675-4ae1-96db-09c62a22be13",
   "metadata": {},
   "source": [
    "## Walkthrough sample notebook"
   ]
  },
  {
   "cell_type": "markdown",
   "id": "da3edfc9-5bbf-41e9-b435-a61764f14741",
   "metadata": {},
   "source": [
    "Here is how I calculate `1+1`:"
   ]
  },
  {
   "cell_type": "code",
   "execution_count": 1,
   "id": "69232bea-a37b-42f3-8aad-d751c5dffe15",
   "metadata": {},
   "outputs": [
    {
     "data": {
      "text/plain": [
       "2"
      ]
     },
     "execution_count": 1,
     "metadata": {},
     "output_type": "execute_result"
    }
   ],
   "source": [
    "1+1"
   ]
  },
  {
   "cell_type": "code",
   "execution_count": null,
   "id": "130dff98-a908-4778-b1d0-3ed79aacaefe",
   "metadata": {},
   "outputs": [],
   "source": []
  }
 ],
 "metadata": {
  "kernelspec": {
   "display_name": "Python 3 (ipykernel)",
   "language": "python",
   "name": "python3"
  },
  "language_info": {
   "codemirror_mode": {
    "name": "ipython",
    "version": 3
   },
   "file_extension": ".py",
   "mimetype": "text/x-python",
   "name": "python",
   "nbconvert_exporter": "python",
   "pygments_lexer": "ipython3",
   "version": "3.10.8"
  }
 },
 "nbformat": 4,
 "nbformat_minor": 5
}
